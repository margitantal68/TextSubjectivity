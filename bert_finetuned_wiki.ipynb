{
 "cells": [
  {
   "cell_type": "markdown",
   "metadata": {},
   "source": [
    "# Text Subjectivity Classification - Using a fine-tuned models downloaded from HuggingFace"
   ]
  },
  {
   "cell_type": "markdown",
   "metadata": {},
   "source": [
    "Hugging Face model:  \n",
    "model=\"cffl/bert-base-styleclassification-subjective-neutral\"\n",
    "https://huggingface.co/cffl/bert-base-styleclassification-subjective-neutral"
   ]
  },
  {
   "cell_type": "code",
   "execution_count": 1,
   "metadata": {},
   "outputs": [
    {
     "name": "stderr",
     "output_type": "stream",
     "text": [
      "/media/manyi/D_Drive/PYTHON/text_subjectivity2/.venv/lib/python3.10/site-packages/tqdm/auto.py:21: TqdmWarning: IProgress not found. Please update jupyter and ipywidgets. See https://ipywidgets.readthedocs.io/en/stable/user_install.html\n",
      "  from .autonotebook import tqdm as notebook_tqdm\n",
      "/media/manyi/D_Drive/PYTHON/text_subjectivity2/.venv/lib/python3.10/site-packages/transformers/pipelines/text_classification.py:105: UserWarning: `return_all_scores` is now deprecated,  if want a similar functionality use `top_k=None` instead of `return_all_scores=True` or `top_k=1` instead of `return_all_scores=False`.\n",
      "  warnings.warn(\n"
     ]
    },
    {
     "data": {
      "text/plain": [
       "[[{'label': 'SUBJECTIVE', 'score': 0.7003715634346008},\n",
       "  {'label': 'NEUTRAL', 'score': 0.29962843656539917}]]"
      ]
     },
     "execution_count": 1,
     "metadata": {},
     "output_type": "execute_result"
    }
   ],
   "source": [
    "from transformers import pipeline\n",
    "\n",
    "classify = pipeline(\n",
    "    task=\"text-classification\",\n",
    "    model=\"cffl/bert-base-styleclassification-subjective-neutral\",\n",
    "    return_all_scores=True,\n",
    ")\n",
    "\n",
    "input_text  = \"Leonard Bernstein was an American conductor, composer, pianist, music educator, author, and humanitarian.\"\n",
    "classify(input_text)"
   ]
  },
  {
   "cell_type": "code",
   "execution_count": 2,
   "metadata": {},
   "outputs": [
    {
     "name": "stdout",
     "output_type": "stream",
     "text": [
      "Number of parameters:  109483778\n"
     ]
    }
   ],
   "source": [
    "model_pt = classify.model\n",
    "total_params = sum(p.numel() for p in model_pt.parameters())\n",
    "print(\"Number of parameters: \", total_params)\n",
    "\n",
    "# total_params_trainable = sum(p.numel() for p in model_pt.parameters() if p.requires_grad)\n",
    "# print(\"Number of trainable parameters: \", total_params_trainable)"
   ]
  },
  {
   "cell_type": "code",
   "execution_count": 3,
   "metadata": {},
   "outputs": [],
   "source": [
    "def classify_subjectivity(input_text):\n",
    "    result = classify(input_text)\n",
    "    subj_score = result[0][0]['score']\n",
    "    neutral_score = result[0][1]['score']\n",
    "    if subj_score > neutral_score:\n",
    "        return 1\n",
    "    else:\n",
    "        return 0"
   ]
  },
  {
   "cell_type": "code",
   "execution_count": 4,
   "metadata": {},
   "outputs": [],
   "source": [
    "def compute_metrics(predictions, labels):\n",
    "    TP = 0\n",
    "    TN = 0\n",
    "    FP = 0\n",
    "    FN = 0\n",
    "    for i in range(len(predictions)):\n",
    "        if labels[i] == 1:\n",
    "            if predictions[i] == 1:\n",
    "                TP += 1\n",
    "            else:\n",
    "                FN += 1\n",
    "        else:\n",
    "            if predictions[i] == 1:\n",
    "                FP += 1\n",
    "            else:\n",
    "                TN += 1\n",
    "    print('TP:', TP)\n",
    "    print('FN:', FN)\n",
    "    print('FP:', FP)\n",
    "    print('TN:', TN)\n",
    "    precision = TP / (TP + FP)\n",
    "    recall = TP / (TP + FN)\n",
    "    accuracy = (TP + TN) / (TP + TN + FP + FN)\n",
    "    F1 = 2 * precision * recall / (precision + recall)\n",
    "    print('accuracy:', accuracy)\n",
    "    print('precision:', precision)\n",
    "    print('recall:', recall)\n",
    "    print('F1:', F1)\n",
    "    print('{:10.4f},{:10.4f},{:10.4f},{:10.4f}'.format(accuracy, precision, recall, F1))"
   ]
  },
  {
   "cell_type": "code",
   "execution_count": 5,
   "metadata": {},
   "outputs": [
    {
     "name": "stdout",
     "output_type": "stream",
     "text": [
      "\n",
      "data/SUBJ/test.csv\n",
      "TP: 421\n",
      "FN: 79\n",
      "FP: 213\n",
      "TN: 287\n",
      "accuracy: 0.708\n",
      "precision: 0.6640378548895899\n",
      "recall: 0.842\n",
      "F1: 0.7425044091710759\n",
      "    0.7080,    0.6640,    0.8420,    0.7425\n",
      "\n",
      "data/tasksource/test.csv\n",
      "TP: 102\n",
      "FN: 11\n",
      "FP: 66\n",
      "TN: 40\n",
      "accuracy: 0.6484018264840182\n",
      "precision: 0.6071428571428571\n",
      "recall: 0.9026548672566371\n",
      "F1: 0.7259786476868326\n",
      "    0.6484,    0.6071,    0.9027,    0.7260\n",
      "\n",
      "data/bard.csv\n",
      "TP: 37\n",
      "FN: 13\n",
      "FP: 19\n",
      "TN: 31\n",
      "accuracy: 0.68\n",
      "precision: 0.6607142857142857\n",
      "recall: 0.74\n",
      "F1: 0.6981132075471698\n",
      "    0.6800,    0.6607,    0.7400,    0.6981\n",
      "\n",
      "data/ai21.csv\n",
      "TP: 40\n",
      "FN: 10\n",
      "FP: 4\n",
      "TN: 46\n",
      "accuracy: 0.86\n",
      "precision: 0.9090909090909091\n",
      "recall: 0.8\n",
      "F1: 0.8510638297872342\n",
      "    0.8600,    0.9091,    0.8000,    0.8511\n"
     ]
    }
   ],
   "source": [
    "import pandas as pd\n",
    "\n",
    "datasets = [\"data/SUBJ/test.csv\", \"data/tasksource/test.csv\", \"data/bard.csv\", \"data/ai21.csv\"]\n",
    "\n",
    "for dataset in datasets:\n",
    "    print()\n",
    "    print(dataset)\n",
    "    \n",
    "    df = pd.read_csv(dataset)\n",
    "    if dataset == \"data/tasksource/test.csv\":\n",
    "        # ONLY tasksource\n",
    "        label2id = {\"SUBJ\": 1, \"OBJ\": 0}\n",
    "        # remove the last column from a dataframe\n",
    "        df = df.iloc[:, :-1]\n",
    "        # rename the first column of the dataframe\n",
    "        df = df.rename(columns={\"Sentence\": \"text\", \"Label\": \"label\"})\n",
    "        df['label'] = df['label'].apply(lambda x: label2id[x])\n",
    "\n",
    "    labels = []\n",
    "    predictions = []\n",
    "    for i in range(len(df)):\n",
    "        # print(df.iloc[i])\n",
    "        input_text = df.iloc[i]['text']\n",
    "        label = df.iloc[i]['label']\n",
    "        labels.append(label)\n",
    "        predictions.append(classify_subjectivity(input_text))\n",
    "        # print(input_text, label, classify_subjectivity(input_text))\n",
    "    compute_metrics(predictions, labels)"
   ]
  }
 ],
 "metadata": {
  "kernelspec": {
   "display_name": "torch-sentiment-iixsuFdB-py3.11",
   "language": "python",
   "name": "python3"
  },
  "language_info": {
   "codemirror_mode": {
    "name": "ipython",
    "version": 3
   },
   "file_extension": ".py",
   "mimetype": "text/x-python",
   "name": "python",
   "nbconvert_exporter": "python",
   "pygments_lexer": "ipython3",
   "version": "3.10.12"
  }
 },
 "nbformat": 4,
 "nbformat_minor": 2
}
