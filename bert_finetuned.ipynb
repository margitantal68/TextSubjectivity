{
 "cells": [
  {
   "cell_type": "markdown",
   "metadata": {},
   "source": [
    "# Text Subjectivity Classification - Fine-tuning a BERT model"
   ]
  },
  {
   "cell_type": "code",
   "execution_count": 61,
   "metadata": {},
   "outputs": [
    {
     "data": {
      "text/html": [
       "<div>\n",
       "<style scoped>\n",
       "    .dataframe tbody tr th:only-of-type {\n",
       "        vertical-align: middle;\n",
       "    }\n",
       "\n",
       "    .dataframe tbody tr th {\n",
       "        vertical-align: top;\n",
       "    }\n",
       "\n",
       "    .dataframe thead th {\n",
       "        text-align: right;\n",
       "    }\n",
       "</style>\n",
       "<table border=\"1\" class=\"dataframe\">\n",
       "  <thead>\n",
       "    <tr style=\"text-align: right;\">\n",
       "      <th></th>\n",
       "      <th>text</th>\n",
       "      <th>label</th>\n",
       "    </tr>\n",
       "  </thead>\n",
       "  <tbody>\n",
       "    <tr>\n",
       "      <th>0</th>\n",
       "      <td>smart and alert , thirteen conversations about...</td>\n",
       "      <td>1</td>\n",
       "    </tr>\n",
       "    <tr>\n",
       "      <th>1</th>\n",
       "      <td>color , musical bounce and warm seas lapping o...</td>\n",
       "      <td>1</td>\n",
       "    </tr>\n",
       "    <tr>\n",
       "      <th>2</th>\n",
       "      <td>it is not a mass-market entertainment but an u...</td>\n",
       "      <td>1</td>\n",
       "    </tr>\n",
       "    <tr>\n",
       "      <th>3</th>\n",
       "      <td>a light-hearted french film about the spiritua...</td>\n",
       "      <td>1</td>\n",
       "    </tr>\n",
       "    <tr>\n",
       "      <th>4</th>\n",
       "      <td>my wife is an actress has its moments in looki...</td>\n",
       "      <td>1</td>\n",
       "    </tr>\n",
       "  </tbody>\n",
       "</table>\n",
       "</div>"
      ],
      "text/plain": [
       "                                                text  label\n",
       "0  smart and alert , thirteen conversations about...      1\n",
       "1  color , musical bounce and warm seas lapping o...      1\n",
       "2  it is not a mass-market entertainment but an u...      1\n",
       "3  a light-hearted french film about the spiritua...      1\n",
       "4  my wife is an actress has its moments in looki...      1"
      ]
     },
     "execution_count": 61,
     "metadata": {},
     "output_type": "execute_result"
    }
   ],
   "source": [
    "# Libraries needed for data preparation\n",
    "import pandas as pd\n",
    "import numpy as np\n",
    "\n",
    "datapath = \"data/SUBJ/data.tsv\"\n",
    "df = pd.read_csv(datapath,  sep='\\t')\n",
    "df = df[[\"text\", \"label\"]]\n",
    "\n",
    "# Show the data\n",
    "df.head()"
   ]
  },
  {
   "cell_type": "code",
   "execution_count": 62,
   "metadata": {},
   "outputs": [
    {
     "name": "stdout",
     "output_type": "stream",
     "text": [
      "Total number of data: 10000\n",
      "----------------------------------------\n",
      "Split by category:\n",
      "label\n",
      "1    5000\n",
      "0    5000\n",
      "Name: count, dtype: int64\n",
      "----------------------------------------\n",
      "Number of categories: 2\n"
     ]
    }
   ],
   "source": [
    "print('Total number of data: {}'.format(len(df)))\n",
    "print(40*'-')\n",
    "print('Split by category:')\n",
    "print(df[\"label\"].value_counts())\n",
    "print(40*'-')\n",
    "nr_categories = len(df[\"label\"].unique())\n",
    "print(\"Number of categories: {n}\".format(n=nr_categories))"
   ]
  },
  {
   "cell_type": "markdown",
   "metadata": {},
   "source": [
    "The label has to be converted to a number, an “index”. Let’s do that."
   ]
  },
  {
   "cell_type": "code",
   "execution_count": 63,
   "metadata": {},
   "outputs": [
    {
     "name": "stdout",
     "output_type": "stream",
     "text": [
      "<class 'pandas.core.series.Series'>\n"
     ]
    }
   ],
   "source": [
    "# Renaming, Input -> X, Output -> y\n",
    "X = df['text']\n",
    "y=np.unique(df['label'], return_inverse=True)[1]\n",
    "print(type(X))"
   ]
  },
  {
   "cell_type": "code",
   "execution_count": 64,
   "metadata": {},
   "outputs": [
    {
     "name": "stdout",
     "output_type": "stream",
     "text": [
      "Using cuda device\n"
     ]
    }
   ],
   "source": [
    "import torch\n",
    "\n",
    "# Get cpu or gpu device for training.\n",
    "device = \"cuda\" if torch.cuda.is_available() else \"cpu\"\n",
    "print(f\"Using {device} device\")"
   ]
  },
  {
   "cell_type": "code",
   "execution_count": 65,
   "metadata": {},
   "outputs": [
    {
     "name": "stdout",
     "output_type": "stream",
     "text": [
      "models/bert-finetuned-30-epochs.sd\n"
     ]
    }
   ],
   "source": [
    "BASE_MODEL_NAME = \"bert-base-uncased\"\n",
    "FINE_TUNING = True\n",
    "\n",
    "RANDOM_STATE = 42\n",
    "\n",
    "TRAIN_BATCH_SIZE = 8\n",
    "VAL_BATCH_SIZE = 8\n",
    "\n",
    "EPOCHS = 30\n",
    "if FINE_TUNING:\n",
    "    SAVED_MODEL_NAME = 'models/bert-finetuned-' + str(EPOCHS) + '-epochs.sd'\n",
    "else:\n",
    "    SAVED_MODEL_NAME = 'models/our-bert-frozen.sd'\n",
    "\n",
    "print(SAVED_MODEL_NAME)"
   ]
  },
  {
   "cell_type": "markdown",
   "metadata": {},
   "source": [
    "Let’s instantiate the BERT tokenizer."
   ]
  },
  {
   "cell_type": "code",
   "execution_count": 66,
   "metadata": {},
   "outputs": [],
   "source": [
    "from transformers import logging, AutoTokenizer, AutoModel\n",
    "\n",
    "tokenizer = AutoTokenizer.from_pretrained(BASE_MODEL_NAME)"
   ]
  },
  {
   "cell_type": "markdown",
   "metadata": {},
   "source": [
    "Prepare the Dataset"
   ]
  },
  {
   "cell_type": "code",
   "execution_count": 67,
   "metadata": {},
   "outputs": [],
   "source": [
    "# Convert data to torch tensor\n",
    "X_list = X.to_list()\n",
    "X_pt = tokenizer(X_list, padding='max_length', max_length = 256, truncation=True,  return_tensors='pt')[\"input_ids\"]\n",
    "\n",
    "y_list=y.tolist()\n",
    "y_pt = torch.Tensor(y_list).long()"
   ]
  },
  {
   "cell_type": "markdown",
   "metadata": {},
   "source": [
    "Let’s split the dataset into training, testing and validation data."
   ]
  },
  {
   "cell_type": "code",
   "execution_count": 68,
   "metadata": {},
   "outputs": [
    {
     "name": "stdout",
     "output_type": "stream",
     "text": [
      "#test_samples: 1000\n",
      "#train_samples: 8100\n",
      "#val_samples: 900\n"
     ]
    }
   ],
   "source": [
    "from sklearn.model_selection import train_test_split\n",
    "\n",
    "X_pt_train, X_pt_test, y_pt_train, y_pt_test = train_test_split(X_pt, y_pt, test_size=0.1, random_state=RANDOM_STATE, stratify=y_pt)\n",
    "X_pt_train, X_pt_val, y_pt_train, y_pt_val = train_test_split(X_pt_train, y_pt_train, test_size=0.1, random_state=RANDOM_STATE, stratify=y_pt_train)\n",
    "print('#test_samples:', len(y_pt_test))\n",
    "print('#train_samples:', len(y_pt_train))\n",
    "print('#val_samples:', len(y_pt_val))"
   ]
  },
  {
   "cell_type": "markdown",
   "metadata": {},
   "source": [
    "We create a MyDataset class that will convert our data to torch dataset."
   ]
  },
  {
   "cell_type": "code",
   "execution_count": 69,
   "metadata": {},
   "outputs": [],
   "source": [
    "# Convert data to torch dataset\n",
    "from torch.utils.data import Dataset, DataLoader\n",
    "class MyDataset(Dataset):\n",
    "    def __init__(self, X, y):\n",
    "        \"\"\"\n",
    "        Args:\n",
    "            X, y as Torch tensors\n",
    "        \"\"\"\n",
    "        self.X_train = X\n",
    "        self.y_train = y\n",
    "        \n",
    "\n",
    "    def __len__(self):\n",
    "        return len(self.y_train)\n",
    "\n",
    "    def __getitem__(self, idx):\n",
    "        return self.X_train[idx], self.y_train[idx]\n",
    "\n",
    "\n",
    "train_data_pt = MyDataset(X=X_pt_train, y=y_pt_train)\n",
    "test_data_pt = MyDataset(X=X_pt_test, y=y_pt_test)\n",
    "val_data_pt = MyDataset(X=X_pt_val, y=y_pt_val)"
   ]
  },
  {
   "cell_type": "markdown",
   "metadata": {},
   "source": [
    "Create dataloaders, to prepare the dataset to be used for training and testing."
   ]
  },
  {
   "cell_type": "code",
   "execution_count": 70,
   "metadata": {},
   "outputs": [],
   "source": [
    "train_loader_pt = DataLoader(train_data_pt, batch_size=TRAIN_BATCH_SIZE)\n",
    "test_loader_pt = DataLoader(test_data_pt, batch_size=TRAIN_BATCH_SIZE)\n",
    "val_loader_pt = DataLoader(val_data_pt, batch_size=VAL_BATCH_SIZE)"
   ]
  },
  {
   "cell_type": "markdown",
   "metadata": {},
   "source": [
    "**Build the Model**\n",
    "\n",
    "Let’s build the model. For this we first need to get the BERT layer from the transformer library."
   ]
  },
  {
   "cell_type": "code",
   "execution_count": 71,
   "metadata": {},
   "outputs": [],
   "source": [
    "import transformers\n",
    "\n",
    "dbert_pt = AutoModel.from_pretrained(BASE_MODEL_NAME)"
   ]
  },
  {
   "cell_type": "code",
   "execution_count": 73,
   "metadata": {},
   "outputs": [],
   "source": [
    "from torch import nn\n",
    "num_classes = 2\n",
    "\n",
    "class BertClassification(nn.Module):\n",
    "    def __init__(self):\n",
    "        super(BertClassification, self).__init__()\n",
    "        self.dbert = dbert_pt\n",
    "        self.num_classes = 2\n",
    "        self.linear = nn.Linear(dbert_pt.config.hidden_size, num_classes)\n",
    "        self.dropout = nn.Dropout(p=0.5)\n",
    "        # BERT model is trainable\n",
    "        if FINE_TUNING:\n",
    "            for param in dbert_pt.parameters():\n",
    "                param.requires_grad_(True)\n",
    "        else:\n",
    "            for param in dbert_pt.parameters():\n",
    "                param.requires_grad_(False)\n",
    "\n",
    "    def forward(self, x):\n",
    "        x = self.dbert(input_ids=x)\n",
    "        x = x[\"last_hidden_state\"][:,0,:]\n",
    "        x = self.dropout(x)\n",
    "        x = self.linear(x)\n",
    "        return x"
   ]
  },
  {
   "cell_type": "code",
   "execution_count": 74,
   "metadata": {},
   "outputs": [],
   "source": [
    "model_pt = BertClassification().to(device)"
   ]
  },
  {
   "cell_type": "markdown",
   "metadata": {},
   "source": [
    "Number of parameters: trainable and non-trainable"
   ]
  },
  {
   "cell_type": "code",
   "execution_count": 75,
   "metadata": {},
   "outputs": [
    {
     "name": "stdout",
     "output_type": "stream",
     "text": [
      "Number of parameters:  109483778\n",
      "Number of trainable parameters:  109483778\n"
     ]
    }
   ],
   "source": [
    "total_params = sum(p.numel() for p in model_pt.parameters())\n",
    "total_params_trainable = sum(p.numel() for p in model_pt.parameters() if p.requires_grad)\n",
    "print(\"Number of parameters: \", total_params)\n",
    "print(\"Number of trainable parameters: \", total_params_trainable)"
   ]
  },
  {
   "cell_type": "markdown",
   "metadata": {},
   "source": [
    "**Train the Model**"
   ]
  },
  {
   "cell_type": "code",
   "execution_count": 76,
   "metadata": {},
   "outputs": [
    {
     "name": "stderr",
     "output_type": "stream",
     "text": [
      "100%|██████████| 1013/1013 [02:53<00:00,  5.84it/s]\n"
     ]
    },
    {
     "name": "stdout",
     "output_type": "stream",
     "text": [
      "Epoch 1 \t\t Training Loss:      0.174 \t\t Validation Loss:      0.136\n",
      "\t\t Training Accuracy:    92.765% \t\t Validation Accuracy:    96.111%\n"
     ]
    },
    {
     "name": "stderr",
     "output_type": "stream",
     "text": [
      "100%|██████████| 1013/1013 [02:51<00:00,  5.90it/s]\n"
     ]
    },
    {
     "name": "stdout",
     "output_type": "stream",
     "text": [
      "Epoch 2 \t\t Training Loss:      0.064 \t\t Validation Loss:      0.142\n",
      "\t\t Training Accuracy:    97.765% \t\t Validation Accuracy:    95.556%\n"
     ]
    },
    {
     "name": "stderr",
     "output_type": "stream",
     "text": [
      "100%|██████████| 1013/1013 [02:44<00:00,  6.14it/s]\n"
     ]
    },
    {
     "name": "stdout",
     "output_type": "stream",
     "text": [
      "Epoch 3 \t\t Training Loss:      0.025 \t\t Validation Loss:      0.180\n",
      "\t\t Training Accuracy:    99.259% \t\t Validation Accuracy:    95.667%\n"
     ]
    },
    {
     "name": "stderr",
     "output_type": "stream",
     "text": [
      "100%|██████████| 1013/1013 [02:44<00:00,  6.14it/s]\n"
     ]
    },
    {
     "name": "stdout",
     "output_type": "stream",
     "text": [
      "Epoch 4 \t\t Training Loss:      0.017 \t\t Validation Loss:      0.198\n",
      "\t\t Training Accuracy:    99.469% \t\t Validation Accuracy:    95.333%\n"
     ]
    },
    {
     "name": "stderr",
     "output_type": "stream",
     "text": [
      "100%|██████████| 1013/1013 [02:45<00:00,  6.12it/s]\n"
     ]
    },
    {
     "name": "stdout",
     "output_type": "stream",
     "text": [
      "Model saved:  models/bert-finetuned-5-epochs.sd\n",
      "Epoch 5 \t\t Training Loss:      0.010 \t\t Validation Loss:      0.210\n",
      "\t\t Training Accuracy:    99.691% \t\t Validation Accuracy:    95.667%\n"
     ]
    },
    {
     "name": "stderr",
     "output_type": "stream",
     "text": [
      "100%|██████████| 1013/1013 [02:46<00:00,  6.07it/s]\n"
     ]
    },
    {
     "name": "stdout",
     "output_type": "stream",
     "text": [
      "Epoch 6 \t\t Training Loss:      0.014 \t\t Validation Loss:      0.192\n",
      "\t\t Training Accuracy:    99.593% \t\t Validation Accuracy:    96.111%\n"
     ]
    },
    {
     "name": "stderr",
     "output_type": "stream",
     "text": [
      "100%|██████████| 1013/1013 [02:55<00:00,  5.78it/s]\n"
     ]
    },
    {
     "name": "stdout",
     "output_type": "stream",
     "text": [
      "Epoch 7 \t\t Training Loss:      0.005 \t\t Validation Loss:      0.244\n",
      "\t\t Training Accuracy:    99.840% \t\t Validation Accuracy:    95.444%\n"
     ]
    },
    {
     "name": "stderr",
     "output_type": "stream",
     "text": [
      "100%|██████████| 1013/1013 [02:52<00:00,  5.86it/s]\n"
     ]
    },
    {
     "name": "stdout",
     "output_type": "stream",
     "text": [
      "Epoch 8 \t\t Training Loss:      0.009 \t\t Validation Loss:      0.181\n",
      "\t\t Training Accuracy:    99.605% \t\t Validation Accuracy:    96.444%\n"
     ]
    },
    {
     "name": "stderr",
     "output_type": "stream",
     "text": [
      "100%|██████████| 1013/1013 [02:52<00:00,  5.86it/s]\n"
     ]
    },
    {
     "name": "stdout",
     "output_type": "stream",
     "text": [
      "Epoch 9 \t\t Training Loss:      0.001 \t\t Validation Loss:      0.232\n",
      "\t\t Training Accuracy:    99.975% \t\t Validation Accuracy:    96.000%\n"
     ]
    },
    {
     "name": "stderr",
     "output_type": "stream",
     "text": [
      "100%|██████████| 1013/1013 [02:54<00:00,  5.82it/s]\n"
     ]
    },
    {
     "name": "stdout",
     "output_type": "stream",
     "text": [
      "Model saved:  models/bert-finetuned-10-epochs.sd\n",
      "Epoch 10 \t\t Training Loss:      0.008 \t\t Validation Loss:      0.242\n",
      "\t\t Training Accuracy:    99.765% \t\t Validation Accuracy:    95.444%\n"
     ]
    },
    {
     "name": "stderr",
     "output_type": "stream",
     "text": [
      "100%|██████████| 1013/1013 [02:53<00:00,  5.85it/s]\n"
     ]
    },
    {
     "name": "stdout",
     "output_type": "stream",
     "text": [
      "Epoch 11 \t\t Training Loss:      0.004 \t\t Validation Loss:      0.211\n",
      "\t\t Training Accuracy:    99.877% \t\t Validation Accuracy:    96.556%\n"
     ]
    },
    {
     "name": "stderr",
     "output_type": "stream",
     "text": [
      "100%|██████████| 1013/1013 [02:53<00:00,  5.85it/s]\n"
     ]
    },
    {
     "name": "stdout",
     "output_type": "stream",
     "text": [
      "Epoch 12 \t\t Training Loss:      0.001 \t\t Validation Loss:      0.246\n",
      "\t\t Training Accuracy:    99.975% \t\t Validation Accuracy:    96.000%\n"
     ]
    },
    {
     "name": "stderr",
     "output_type": "stream",
     "text": [
      "100%|██████████| 1013/1013 [02:52<00:00,  5.86it/s]\n"
     ]
    },
    {
     "name": "stdout",
     "output_type": "stream",
     "text": [
      "Epoch 13 \t\t Training Loss:      0.005 \t\t Validation Loss:      0.221\n",
      "\t\t Training Accuracy:    99.815% \t\t Validation Accuracy:    96.111%\n"
     ]
    },
    {
     "name": "stderr",
     "output_type": "stream",
     "text": [
      "100%|██████████| 1013/1013 [02:53<00:00,  5.85it/s]\n"
     ]
    },
    {
     "name": "stdout",
     "output_type": "stream",
     "text": [
      "Epoch 14 \t\t Training Loss:      0.006 \t\t Validation Loss:      0.245\n",
      "\t\t Training Accuracy:    99.864% \t\t Validation Accuracy:    95.778%\n"
     ]
    },
    {
     "name": "stderr",
     "output_type": "stream",
     "text": [
      "100%|██████████| 1013/1013 [02:53<00:00,  5.83it/s]\n"
     ]
    },
    {
     "name": "stdout",
     "output_type": "stream",
     "text": [
      "Model saved:  models/bert-finetuned-15-epochs.sd\n",
      "Epoch 15 \t\t Training Loss:      0.005 \t\t Validation Loss:      0.206\n",
      "\t\t Training Accuracy:    99.840% \t\t Validation Accuracy:    96.333%\n"
     ]
    },
    {
     "name": "stderr",
     "output_type": "stream",
     "text": [
      "100%|██████████| 1013/1013 [02:54<00:00,  5.82it/s]\n"
     ]
    },
    {
     "name": "stdout",
     "output_type": "stream",
     "text": [
      "Epoch 16 \t\t Training Loss:      0.003 \t\t Validation Loss:      0.261\n",
      "\t\t Training Accuracy:    99.889% \t\t Validation Accuracy:    95.556%\n"
     ]
    },
    {
     "name": "stderr",
     "output_type": "stream",
     "text": [
      "100%|██████████| 1013/1013 [02:52<00:00,  5.89it/s]\n"
     ]
    },
    {
     "name": "stdout",
     "output_type": "stream",
     "text": [
      "Epoch 17 \t\t Training Loss:      0.003 \t\t Validation Loss:      0.232\n",
      "\t\t Training Accuracy:    99.938% \t\t Validation Accuracy:    96.000%\n"
     ]
    },
    {
     "name": "stderr",
     "output_type": "stream",
     "text": [
      "100%|██████████| 1013/1013 [02:54<00:00,  5.81it/s]\n"
     ]
    },
    {
     "name": "stdout",
     "output_type": "stream",
     "text": [
      "Epoch 18 \t\t Training Loss:      0.002 \t\t Validation Loss:      0.246\n",
      "\t\t Training Accuracy:    99.963% \t\t Validation Accuracy:    95.333%\n"
     ]
    },
    {
     "name": "stderr",
     "output_type": "stream",
     "text": [
      "100%|██████████| 1013/1013 [02:52<00:00,  5.86it/s]\n"
     ]
    },
    {
     "name": "stdout",
     "output_type": "stream",
     "text": [
      "Epoch 19 \t\t Training Loss:      0.006 \t\t Validation Loss:      0.189\n",
      "\t\t Training Accuracy:    99.815% \t\t Validation Accuracy:    96.667%\n"
     ]
    },
    {
     "name": "stderr",
     "output_type": "stream",
     "text": [
      "100%|██████████| 1013/1013 [02:52<00:00,  5.87it/s]\n"
     ]
    },
    {
     "name": "stdout",
     "output_type": "stream",
     "text": [
      "Model saved:  models/bert-finetuned-20-epochs.sd\n",
      "Epoch 20 \t\t Training Loss:      0.000 \t\t Validation Loss:      0.220\n",
      "\t\t Training Accuracy:    99.988% \t\t Validation Accuracy:    96.889%\n"
     ]
    },
    {
     "name": "stderr",
     "output_type": "stream",
     "text": [
      "100%|██████████| 1013/1013 [02:51<00:00,  5.89it/s]\n"
     ]
    },
    {
     "name": "stdout",
     "output_type": "stream",
     "text": [
      "Epoch 21 \t\t Training Loss:      0.004 \t\t Validation Loss:      0.224\n",
      "\t\t Training Accuracy:    99.926% \t\t Validation Accuracy:    95.889%\n"
     ]
    },
    {
     "name": "stderr",
     "output_type": "stream",
     "text": [
      "100%|██████████| 1013/1013 [02:54<00:00,  5.80it/s]\n"
     ]
    },
    {
     "name": "stdout",
     "output_type": "stream",
     "text": [
      "Epoch 22 \t\t Training Loss:      0.000 \t\t Validation Loss:      0.237\n",
      "\t\t Training Accuracy:   100.000% \t\t Validation Accuracy:    96.111%\n"
     ]
    },
    {
     "name": "stderr",
     "output_type": "stream",
     "text": [
      "100%|██████████| 1013/1013 [02:48<00:00,  6.02it/s]\n"
     ]
    },
    {
     "name": "stdout",
     "output_type": "stream",
     "text": [
      "Epoch 23 \t\t Training Loss:      0.000 \t\t Validation Loss:      0.258\n",
      "\t\t Training Accuracy:   100.000% \t\t Validation Accuracy:    96.111%\n"
     ]
    },
    {
     "name": "stderr",
     "output_type": "stream",
     "text": [
      "100%|██████████| 1013/1013 [02:45<00:00,  6.12it/s]\n"
     ]
    },
    {
     "name": "stdout",
     "output_type": "stream",
     "text": [
      "Epoch 24 \t\t Training Loss:      0.000 \t\t Validation Loss:      0.264\n",
      "\t\t Training Accuracy:   100.000% \t\t Validation Accuracy:    96.111%\n"
     ]
    },
    {
     "name": "stderr",
     "output_type": "stream",
     "text": [
      "100%|██████████| 1013/1013 [02:47<00:00,  6.06it/s]\n"
     ]
    },
    {
     "name": "stdout",
     "output_type": "stream",
     "text": [
      "Model saved:  models/bert-finetuned-25-epochs.sd\n",
      "Epoch 25 \t\t Training Loss:      0.000 \t\t Validation Loss:      0.274\n",
      "\t\t Training Accuracy:   100.000% \t\t Validation Accuracy:    96.222%\n"
     ]
    },
    {
     "name": "stderr",
     "output_type": "stream",
     "text": [
      "100%|██████████| 1013/1013 [02:45<00:00,  6.12it/s]\n"
     ]
    },
    {
     "name": "stdout",
     "output_type": "stream",
     "text": [
      "Epoch 26 \t\t Training Loss:      0.009 \t\t Validation Loss:      0.220\n",
      "\t\t Training Accuracy:    99.802% \t\t Validation Accuracy:    95.444%\n"
     ]
    },
    {
     "name": "stderr",
     "output_type": "stream",
     "text": [
      "100%|██████████| 1013/1013 [02:45<00:00,  6.12it/s]\n"
     ]
    },
    {
     "name": "stdout",
     "output_type": "stream",
     "text": [
      "Epoch 27 \t\t Training Loss:      0.001 \t\t Validation Loss:      0.233\n",
      "\t\t Training Accuracy:    99.938% \t\t Validation Accuracy:    96.556%\n"
     ]
    },
    {
     "name": "stderr",
     "output_type": "stream",
     "text": [
      "100%|██████████| 1013/1013 [02:45<00:00,  6.13it/s]\n"
     ]
    },
    {
     "name": "stdout",
     "output_type": "stream",
     "text": [
      "Epoch 28 \t\t Training Loss:      0.001 \t\t Validation Loss:      0.249\n",
      "\t\t Training Accuracy:    99.975% \t\t Validation Accuracy:    96.333%\n"
     ]
    },
    {
     "name": "stderr",
     "output_type": "stream",
     "text": [
      "100%|██████████| 1013/1013 [02:45<00:00,  6.13it/s]\n"
     ]
    },
    {
     "name": "stdout",
     "output_type": "stream",
     "text": [
      "Epoch 29 \t\t Training Loss:      0.000 \t\t Validation Loss:      0.265\n",
      "\t\t Training Accuracy:   100.000% \t\t Validation Accuracy:    96.556%\n"
     ]
    },
    {
     "name": "stderr",
     "output_type": "stream",
     "text": [
      "100%|██████████| 1013/1013 [02:45<00:00,  6.13it/s]\n"
     ]
    },
    {
     "name": "stdout",
     "output_type": "stream",
     "text": [
      "Model saved:  models/bert-finetuned-30-epochs.sd\n",
      "Epoch 30 \t\t Training Loss:      0.004 \t\t Validation Loss:      0.266\n",
      "\t\t Training Accuracy:    99.951% \t\t Validation Accuracy:    96.222%\n"
     ]
    }
   ],
   "source": [
    "from datetime import datetime\n",
    "\n",
    "\n",
    "criterion = torch.nn.CrossEntropyLoss()\n",
    "optimizer = torch.optim.AdamW(model_pt.parameters(), lr=1e-5, weight_decay=0.01)\n",
    "from tqdm import tqdm\n",
    "# Define the dictionary \"history\" that will collect key performance indicators during training\n",
    "history = {}\n",
    "history[\"epoch\"]=[]\n",
    "history[\"train_loss\"]=[]\n",
    "history[\"valid_loss\"]=[]\n",
    "history[\"train_accuracy\"]=[]\n",
    "history[\"valid_accuracy\"]=[]\n",
    "\n",
    "# Measure time for training\n",
    "start_time = datetime.now()\n",
    "\n",
    "# Loop on epochs\n",
    "for e in range(EPOCHS):\n",
    "    \n",
    "    # Set mode in train mode\n",
    "    model_pt.train()\n",
    "    \n",
    "    train_loss = 0.0\n",
    "    train_accuracy = []\n",
    "    \n",
    "    # Loop on batches\n",
    "    for X, y in tqdm(train_loader_pt):\n",
    "        X = X.to(device)\n",
    "        y = y.to(device)\n",
    "        # Get prediction & loss\n",
    "        # print(X.is_cuda)\n",
    "        # print(y.is_cuda)\n",
    "        prediction = model_pt(X)\n",
    "       \n",
    "        loss = criterion(prediction, y)\n",
    "        \n",
    "        # Adjust the parameters of the model\n",
    "        optimizer.zero_grad()\n",
    "        loss.backward()\n",
    "        optimizer.step()\n",
    "        \n",
    "        train_loss += loss.item()\n",
    "        \n",
    "        prediction_index = prediction.argmax(axis=1)\n",
    "        accuracy = (prediction_index==y)\n",
    "        train_accuracy += accuracy\n",
    "    \n",
    "    train_accuracy = (sum(train_accuracy) / len(train_accuracy)).item()\n",
    "    # Calculate the loss on the test data after each epoch\n",
    "    # Set mode to evaluation (by opposition to training)\n",
    "    model_pt.eval()\n",
    "    valid_loss = 0.0\n",
    "    valid_accuracy = []\n",
    "    for X, y in val_loader_pt:\n",
    "        X = X.to(device)\n",
    "        y = y.to(device)  \n",
    "        prediction = model_pt(X)\n",
    "        loss = criterion(prediction, y)\n",
    "\n",
    "        valid_loss += loss.item()\n",
    "        \n",
    "        prediction_index = prediction.argmax(axis=1)\n",
    "        accuracy = (prediction_index==y)\n",
    "        valid_accuracy += accuracy\n",
    "    valid_accuracy = (sum(valid_accuracy) / len(valid_accuracy)).item()\n",
    "    if (e + 1) % 5 == 0:\n",
    "        temp_model_name = 'models/bert-finetuned-' + str(e + 1) + '-epochs.sd'\n",
    "        torch.save(model_pt.state_dict(), temp_model_name)\n",
    "        print(\"Model saved: \", temp_model_name)\n",
    "\n",
    "    # Populate history\n",
    "    history[\"epoch\"].append(e+1)\n",
    "    history[\"train_loss\"].append(train_loss / len(train_loader_pt))\n",
    "    history[\"valid_loss\"].append(valid_loss / len(test_loader_pt))\n",
    "    history[\"train_accuracy\"].append(train_accuracy)\n",
    "    history[\"valid_accuracy\"].append(valid_accuracy)    \n",
    "        \n",
    "    print(f'Epoch {e+1} \\t\\t Training Loss: {train_loss / len(train_loader_pt) :10.3f} \\t\\t Validation Loss: {valid_loss / len(test_loader_pt) :10.3f}')\n",
    "    print(f'\\t\\t Training Accuracy: {train_accuracy :10.3%} \\t\\t Validation Accuracy: {valid_accuracy :10.3%}')\n",
    "\n",
    "# Measure time for training\n",
    "end_time = datetime.now()\n",
    "training_time_pt = (end_time - start_time).total_seconds()"
   ]
  },
  {
   "cell_type": "code",
   "execution_count": 77,
   "metadata": {},
   "outputs": [
    {
     "data": {
      "text/plain": [
       "<matplotlib.legend.Legend at 0x7f17782dcfa0>"
      ]
     },
     "execution_count": 77,
     "metadata": {},
     "output_type": "execute_result"
    },
    {
     "data": {
      "image/png": "[encoded data removed]",
      "text/plain": [
       "<Figure size 1500x500 with 2 Axes>"
      ]
     },
     "metadata": {},
     "output_type": "display_data"
    }
   ],
   "source": [
    "from matplotlib import pyplot as plt\n",
    "\n",
    "fig, ax = plt.subplots(nrows=1, ncols=2, figsize=(15, 5))\n",
    "ax[0].set(title='Loss')\n",
    "ax[0].plot(history['train_loss'], label='Training')\n",
    "ax[0].plot(history['valid_loss'], label='Validation')\n",
    "ax[0].legend(loc=\"upper right\")\n",
    "\n",
    "ax[1].set(title='Accuracy')\n",
    "ax[1].plot(history['train_accuracy'], label='Training')\n",
    "ax[1].plot(history['valid_accuracy'], label='Validation')\n",
    "ax[1].legend(loc=\"lower right\")"
   ]
  },
  {
   "cell_type": "markdown",
   "metadata": {},
   "source": [
    "**Save the Model**"
   ]
  },
  {
   "cell_type": "code",
   "execution_count": 80,
   "metadata": {},
   "outputs": [],
   "source": [
    "# Save model\n",
    "torch.save(model_pt.state_dict(), SAVED_MODEL_NAME)"
   ]
  },
  {
   "cell_type": "markdown",
   "metadata": {},
   "source": [
    "# References"
   ]
  },
  {
   "cell_type": "markdown",
   "metadata": {},
   "source": [
    "Building a Text Classification in PyTorch\n",
    "SOURCE: https://medium.com/@claude.feldges/text-classification-with-bert-in-tensorflow-and-pytorch-4e43e79673b3\n",
    "\n",
    "Modified using Model contrastive learning repo:\n",
    "https://github.com/hiyouga/Dual-Contrastive-Learning/tree/main\n"
   ]
  }
 ],
 "metadata": {
  "kernelspec": {
   "display_name": "torch-sentiment-iixsuFdB-py3.11",
   "language": "python",
   "name": "python3"
  },
  "language_info": {
   "codemirror_mode": {
    "name": "ipython",
    "version": 3
   },
   "file_extension": ".py",
   "mimetype": "text/x-python",
   "name": "python",
   "nbconvert_exporter": "python",
   "pygments_lexer": "ipython3",
   "version": "3.10.12"
  }
 },
 "nbformat": 4,
 "nbformat_minor": 2
}
