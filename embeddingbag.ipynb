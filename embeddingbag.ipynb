{
  "cells": [
    {
      "cell_type": "code",
      "execution_count": 110,
      "metadata": {},
      "outputs": [
        {
          "name": "stdout",
          "output_type": "stream",
          "text": [
            "PyTorch Version : 2.1.2+cu121\n",
            "Cuda Available : True\n"
          ]
        }
      ],
      "source": [
        "import torch\n",
        "from datasets import load_dataset\n",
        "\n",
        "print(\"PyTorch Version : {}\".format(torch.__version__))\n",
        "print(\"Cuda Available : {}\".format(torch.cuda.is_available()))"
      ]
    },
    {
      "cell_type": "markdown",
      "metadata": {
        "id": "4Y5P2zr1wu3z"
      },
      "source": [
        "# 1. Prepare the dataset"
      ]
    },
    {
      "cell_type": "code",
      "execution_count": 111,
      "metadata": {},
      "outputs": [],
      "source": [
        "# 0.1 - 10%, 0.2 - 20%, ..., 1.0 - 100%\n",
        "PERCENT_OF_TRAINING_DATA = 1.0\n",
        "RANDOM_STATE = 42"
      ]
    },
    {
      "cell_type": "code",
      "execution_count": 112,
      "metadata": {
        "colab": {
          "base_uri": "https://localhost:8080/"
        },
        "id": "xIPDjU3_wqKS",
        "outputId": "2d81c0db-b60d-4ec2-c8fd-f0dc175dd6cb"
      },
      "outputs": [],
      "source": [
        "import pandas as pd\n",
        "from torch.utils.data import Dataset\n",
        "\n",
        "df = pd.read_csv('data/SUBJ/data.tsv', sep='\\t')\n",
        "text_data = df['text'].tolist()\n",
        "labels = df['label'].tolist()"
      ]
    },
    {
      "cell_type": "code",
      "execution_count": 113,
      "metadata": {
        "id": "CECKvKc900ut"
      },
      "outputs": [],
      "source": [
        "class TextClassificationDataset(Dataset):\n",
        "    def __init__(self, text_data, labels):\n",
        "        self.text_data = text_data\n",
        "        self.labels = labels\n",
        "\n",
        "    def __len__(self):\n",
        "        return len(self.text_data)\n",
        "\n",
        "    def __getitem__(self, idx):\n",
        "        text = self.text_data[idx]\n",
        "        label = self.labels[idx]\n",
        "        return (label, text)\n"
      ]
    },
    {
      "cell_type": "code",
      "execution_count": 114,
      "metadata": {
        "colab": {
          "base_uri": "https://localhost:8080/"
        },
        "id": "Pa84bwpa2oM2",
        "outputId": "25426776-5fde-4709-ed9a-c5fec9e2b2fb"
      },
      "outputs": [
        {
          "name": "stdout",
          "output_type": "stream",
          "text": [
            "#train_samples: 8100\n",
            "#val_samples: 900\n",
            "#test_samples: 1000\n"
          ]
        }
      ],
      "source": [
        "# Split dataset into train, validation and test\n",
        "from sklearn.model_selection import train_test_split\n",
        "\n",
        "\n",
        "train_df, test_df = train_test_split(df, test_size=0.1, random_state=RANDOM_STATE, stratify=df['label'])\n",
        "train_df, val_df = train_test_split(train_df, test_size=0.1, random_state=RANDOM_STATE, stratify=train_df['label'])\n",
        "\n",
        "if PERCENT_OF_TRAINING_DATA < 1:\n",
        "    train_df, notused_df = train_test_split(train_df, test_size=(1 - PERCENT_OF_TRAINING_DATA), random_state=RANDOM_STATE, stratify=train_df['label'])\n",
        "\n",
        "\n",
        "print('#train_samples:', train_df.shape[0])\n",
        "print('#val_samples:', val_df.shape[0])\n",
        "print('#test_samples:', test_df.shape[0])\n"
      ]
    },
    {
      "cell_type": "code",
      "execution_count": 115,
      "metadata": {},
      "outputs": [
        {
          "name": "stdout",
          "output_type": "stream",
          "text": [
            "{'input_ids': [101, 2182, 2003, 2019, 2742, 102], 'token_type_ids': [0, 0, 0, 0, 0, 0], 'attention_mask': [1, 1, 1, 1, 1, 1]}\n"
          ]
        },
        {
          "data": {
            "text/plain": [
              "[101, 2182, 2003, 2019, 2742, 102]"
            ]
          },
          "execution_count": 115,
          "metadata": {},
          "output_type": "execute_result"
        }
      ],
      "source": [
        "from torchtext.data.utils import get_tokenizer\n",
        "from transformers import logging, AutoTokenizer, AutoModel\n",
        "\n",
        "tokenizer = AutoTokenizer.from_pretrained(\"bert-base-uncased\")\n",
        "print(tokenizer(\"here is an example\"))\n",
        "tokenizer(\"here is an example\")['input_ids']"
      ]
    },
    {
      "cell_type": "code",
      "execution_count": 116,
      "metadata": {
        "id": "EX_38mcm4wv1"
      },
      "outputs": [],
      "source": [
        "from torchtext.data.utils import get_tokenizer\n",
        "from torchtext.vocab import build_vocab_from_iterator\n",
        "from transformers import logging, AutoTokenizer, AutoModel\n",
        "\n",
        "\n",
        "# Convert a dataframe to a torch dataset\n",
        "train_dataset = TextClassificationDataset(train_df['text'].tolist(), train_df['label'].tolist())\n",
        "test_dataset = TextClassificationDataset(test_df['text'].tolist(), test_df['label'].tolist())\n",
        "val_dataset = TextClassificationDataset(val_df['text'].tolist(), val_df['label'].tolist())\n",
        "\n",
        "train_iter = iter(train_dataset)\n",
        "\n",
        "def yield_tokens(data_iter):\n",
        "    for _, text in data_iter:\n",
        "        yield tokenizer(text)\n"
      ]
    },
    {
      "cell_type": "code",
      "execution_count": 117,
      "metadata": {
        "id": "pFZudmS6BM_p"
      },
      "outputs": [],
      "source": [
        "text_pipeline = lambda x: tokenizer(x)['input_ids']\n",
        "label_pipeline = lambda x: int(x)"
      ]
    },
    {
      "cell_type": "code",
      "execution_count": 118,
      "metadata": {
        "id": "WpKG7QwSBHyl"
      },
      "outputs": [],
      "source": [
        "from torch.utils.data import DataLoader\n",
        "\n",
        "device = torch.device(\"cuda\" if torch.cuda.is_available() else \"cpu\")\n",
        "\n",
        "\n",
        "def collate_batch(batch):\n",
        "    label_list, text_list, offsets = [], [], [0]\n",
        "    for _label, _text in batch:\n",
        "        label_list.append(label_pipeline(_label))\n",
        "        processed_text = torch.tensor(text_pipeline(_text), dtype=torch.int64)\n",
        "        text_list.append(processed_text)\n",
        "        offsets.append(processed_text.size(0))\n",
        "    label_list = torch.tensor(label_list, dtype=torch.int64)\n",
        "    offsets = torch.tensor(offsets[:-1]).cumsum(dim=0)\n",
        "    text_list = torch.cat(text_list)\n",
        "    return label_list.to(device), text_list.to(device), offsets.to(device)"
      ]
    },
    {
      "cell_type": "code",
      "execution_count": 119,
      "metadata": {
        "id": "rlsv3b_vBth6"
      },
      "outputs": [],
      "source": [
        "from torch import nn\n",
        "\n",
        "class TextClassificationModel(nn.Module):\n",
        "    def __init__(self, vocab_size, embed_dim, num_class):\n",
        "        super(TextClassificationModel, self).__init__()\n",
        "        self.embedding = nn.EmbeddingBag(vocab_size, embed_dim, sparse=False)\n",
        "        self.fc = nn.Linear(embed_dim, num_class)\n",
        "        self.dropout = nn.Dropout(p=0.5)\n",
        "        self.init_weights()\n",
        "\n",
        "    def init_weights(self):\n",
        "        initrange = 0.5\n",
        "        self.embedding.weight.data.uniform_(-initrange, initrange)\n",
        "        self.fc.weight.data.uniform_(-initrange, initrange)\n",
        "        self.fc.bias.data.zero_()\n",
        "\n",
        "    def forward(self, text, offsets):\n",
        "        embedded = self.embedding(text, offsets)\n",
        "        embedded = self.dropout(embedded)\n",
        "        return self.fc(embedded)"
      ]
    },
    {
      "cell_type": "code",
      "execution_count": 120,
      "metadata": {
        "id": "ZI-fUBn4B1wf"
      },
      "outputs": [],
      "source": [
        "num_class = 2\n",
        "vocab_size = len(tokenizer)\n",
        "emsize = 64\n",
        "model = TextClassificationModel(vocab_size, emsize, num_class).to(device)"
      ]
    },
    {
      "cell_type": "code",
      "execution_count": 121,
      "metadata": {},
      "outputs": [
        {
          "name": "stdout",
          "output_type": "stream",
          "text": [
            "Number of parameters:  1953538\n",
            "Number of trainable parameters:  1953538\n"
          ]
        }
      ],
      "source": [
        "total_params = sum(p.numel() for p in model.parameters())\n",
        "total_params_trainable = sum(p.numel() for p in model.parameters() if p.requires_grad)\n",
        "print(\"Number of parameters: \", total_params)\n",
        "print(\"Number of trainable parameters: \", total_params_trainable)"
      ]
    },
    {
      "cell_type": "code",
      "execution_count": 122,
      "metadata": {
        "id": "YFPFOidjCBrN"
      },
      "outputs": [],
      "source": [
        "import time\n",
        "\n",
        "def train(dataloader):\n",
        "    model.train()\n",
        "    total_acc, total_count = 0, 0\n",
        "    log_interval = 500\n",
        "    start_time = time.time()\n",
        "\n",
        "    for idx, (label, text, offsets) in enumerate(dataloader):\n",
        "        optimizer.zero_grad()\n",
        "        predicted_label = model(text, offsets)\n",
        "        loss = criterion(predicted_label, label)\n",
        "        loss.backward()\n",
        "        torch.nn.utils.clip_grad_norm_(model.parameters(), 0.1)\n",
        "        optimizer.step()\n",
        "        total_acc += (predicted_label.argmax(1) == label).sum().item()\n",
        "        total_count += label.size(0)\n",
        "        if idx % log_interval == 0 and idx > 0:\n",
        "            elapsed = time.time() - start_time\n",
        "            print(\n",
        "                \"| epoch {:3d} | {:5d}/{:5d} batches \"\n",
        "                \"| accuracy {:8.3f}\".format(\n",
        "                    epoch, idx, len(dataloader), total_acc / total_count\n",
        "                )\n",
        "            )\n",
        "            total_acc, total_count = 0, 0\n",
        "            start_time = time.time()\n",
        "\n",
        "\n",
        "def evaluate(dataloader):\n",
        "    model.eval()\n",
        "    total_acc, total_count = 0, 0\n",
        "    total_loss = 0\n",
        "    with torch.no_grad():\n",
        "        for idx, (label, text, offsets) in enumerate(dataloader):\n",
        "            predicted_label = model(text, offsets)\n",
        "            loss = criterion(predicted_label, label)\n",
        "\n",
        "            total_loss += loss.item()\n",
        "            total_acc += (predicted_label.argmax(1) == label).sum().item()\n",
        "            total_count += label.size(0)\n",
        "    return total_acc / total_count, total_loss / total_count\n"
      ]
    },
    {
      "cell_type": "code",
      "execution_count": 123,
      "metadata": {
        "colab": {
          "base_uri": "https://localhost:8080/"
        },
        "id": "AEpqj4LjCLqH",
        "outputId": "1dca6198-a3e2-4aa8-9830-dcb712b7426c"
      },
      "outputs": [
        {
          "name": "stdout",
          "output_type": "stream",
          "text": [
            "| epoch   1 |   500/  507 batches | accuracy    0.749\n",
            "-----------------------------------------------------------\n",
            "| end of epoch   1 | time:  2.65s | valid accuracy    0.864 \n",
            "-----------------------------------------------------------\n",
            "| epoch   2 |   500/  507 batches | accuracy    0.897\n",
            "-----------------------------------------------------------\n",
            "| end of epoch   2 | time:  2.62s | valid accuracy    0.888 \n",
            "-----------------------------------------------------------\n",
            "| epoch   3 |   500/  507 batches | accuracy    0.928\n",
            "-----------------------------------------------------------\n",
            "| end of epoch   3 | time:  2.60s | valid accuracy    0.900 \n",
            "-----------------------------------------------------------\n",
            "| epoch   4 |   500/  507 batches | accuracy    0.946\n",
            "-----------------------------------------------------------\n",
            "| end of epoch   4 | time:  2.65s | valid accuracy    0.900 \n",
            "-----------------------------------------------------------\n",
            "| epoch   5 |   500/  507 batches | accuracy    0.958\n",
            "-----------------------------------------------------------\n",
            "| end of epoch   5 | time:  2.66s | valid accuracy    0.901 \n",
            "-----------------------------------------------------------\n",
            "| epoch   6 |   500/  507 batches | accuracy    0.967\n",
            "-----------------------------------------------------------\n",
            "| end of epoch   6 | time:  2.59s | valid accuracy    0.898 \n",
            "-----------------------------------------------------------\n",
            "| epoch   7 |   500/  507 batches | accuracy    0.976\n",
            "-----------------------------------------------------------\n",
            "| end of epoch   7 | time:  2.57s | valid accuracy    0.900 \n",
            "-----------------------------------------------------------\n",
            "| epoch   8 |   500/  507 batches | accuracy    0.977\n",
            "-----------------------------------------------------------\n",
            "| end of epoch   8 | time:  2.57s | valid accuracy    0.900 \n",
            "-----------------------------------------------------------\n",
            "| epoch   9 |   500/  507 batches | accuracy    0.976\n",
            "-----------------------------------------------------------\n",
            "| end of epoch   9 | time:  2.60s | valid accuracy    0.900 \n",
            "-----------------------------------------------------------\n",
            "| epoch  10 |   500/  507 batches | accuracy    0.975\n",
            "-----------------------------------------------------------\n",
            "| end of epoch  10 | time:  2.63s | valid accuracy    0.900 \n",
            "-----------------------------------------------------------\n"
          ]
        }
      ],
      "source": [
        "from torch.utils.data.dataset import random_split\n",
        "from torchtext.data.functional import to_map_style_dataset\n",
        "\n",
        "# Hyperparameters\n",
        "EPOCHS = 10\n",
        "LR = 1e-3\n",
        "BATCH_SIZE = 16\n",
        "\n",
        "criterion = torch.nn.CrossEntropyLoss()\n",
        "# optimizer = torch.optim.SGD(model.parameters(), lr=LR)\n",
        "optimizer = torch.optim.AdamW(model.parameters(), lr=LR, weight_decay=0.01)\n",
        "scheduler = torch.optim.lr_scheduler.StepLR(optimizer, 1.0, gamma=0.1)\n",
        "total_accu = None\n",
        "\n",
        "train_dataloader = DataLoader(\n",
        "    train_dataset, batch_size=BATCH_SIZE, shuffle=False, collate_fn=collate_batch\n",
        ")\n",
        "\n",
        "test_dataloader = DataLoader(\n",
        "    test_dataset, batch_size=BATCH_SIZE, shuffle=False, collate_fn=collate_batch\n",
        ")\n",
        "\n",
        "valid_dataloader = DataLoader(\n",
        "    val_dataset, batch_size=BATCH_SIZE, shuffle=False, collate_fn=collate_batch\n",
        ")\n",
        "\n",
        "# Define the dictionary \"history\" that will collect key performance indicators during training\n",
        "history = {}\n",
        "history[\"epoch\"]=[]\n",
        "history[\"train_loss\"]=[]\n",
        "history[\"valid_loss\"]=[]\n",
        "history[\"train_accuracy\"]=[]\n",
        "history[\"valid_accuracy\"]=[]\n",
        "\n",
        "for epoch in range(1, EPOCHS + 1):\n",
        "    epoch_start_time = time.time()\n",
        "    train(train_dataloader)\n",
        "    accu_train, loss_train = evaluate(train_dataloader)\n",
        "    accu_val, loss_val = evaluate(valid_dataloader)\n",
        "    if total_accu is not None and total_accu > accu_val:\n",
        "        scheduler.step()\n",
        "    else:\n",
        "        total_accu = accu_val\n",
        "    print(\"-\" * 59)\n",
        "    print(\n",
        "        \"| end of epoch {:3d} | time: {:5.2f}s | \"\n",
        "        \"valid accuracy {:8.3f} \".format(\n",
        "            epoch, time.time() - epoch_start_time, accu_val\n",
        "        )\n",
        "    )\n",
        "    print(\"-\" * 59)\n",
        "      # Populate history\n",
        "    history[\"epoch\"].append(epoch+1)\n",
        "    history[\"train_loss\"].append(loss_train)\n",
        "    history[\"valid_loss\"].append(loss_val)\n",
        "    history[\"train_accuracy\"].append(accu_train)\n",
        "    history[\"valid_accuracy\"].append(accu_val)    "
      ]
    },
    {
      "cell_type": "code",
      "execution_count": 124,
      "metadata": {},
      "outputs": [
        {
          "data": {
            "text/plain": [
              "<matplotlib.legend.Legend at 0x7fe9ec146a40>"
            ]
          },
          "execution_count": 124,
          "metadata": {},
          "output_type": "execute_result"
        },
        {
          "data": {
            "image/png": "[encoded data removed]",
            "text/plain": [
              "<Figure size 1500x500 with 2 Axes>"
            ]
          },
          "metadata": {},
          "output_type": "display_data"
        }
      ],
      "source": [
        "from matplotlib import pyplot as plt\n",
        "\n",
        "fig, ax = plt.subplots(nrows=1, ncols=2, figsize=(15, 5))\n",
        "ax[0].set(title='Loss')\n",
        "ax[0].plot(history['train_loss'], label='Training')\n",
        "ax[0].plot(history['valid_loss'], label='Validation')\n",
        "ax[0].legend(loc=\"upper right\")\n",
        "\n",
        "ax[1].set(title='Accuracy')\n",
        "ax[1].plot(history['train_accuracy'], label='Training')\n",
        "ax[1].plot(history['valid_accuracy'], label='Validation')\n",
        "ax[1].legend(loc=\"lower right\")"
      ]
    },
    {
      "cell_type": "code",
      "execution_count": 125,
      "metadata": {},
      "outputs": [],
      "source": [
        "text_labels = {1: \"Subjective\", 0: \"Objective\"}\n",
        "\n",
        "def predict(text, text_pipeline):\n",
        "    with torch.no_grad():\n",
        "        text = torch.tensor(text_pipeline(text))\n",
        "        output = model(text, torch.tensor([0]))\n",
        "        print(output)\n",
        "        return output.argmax(1).item()\n",
        "\n",
        "model = model.to(device)"
      ]
    },
    {
      "cell_type": "code",
      "execution_count": 126,
      "metadata": {},
      "outputs": [],
      "source": [
        "def evaluateF1(dataloader):\n",
        "    model.eval()\n",
        "    total_acc, total_count = 0, 0\n",
        "    TP = 0\n",
        "    FP = 0\n",
        "    TN = 0\n",
        "    FN = 0\n",
        "    with torch.no_grad():\n",
        "        for idx, (label, text, offsets) in enumerate(dataloader):\n",
        "            predicted_label = model(text, offsets)\n",
        "            plabel = predicted_label.argmax(1)\n",
        "       \n",
        "            label_list = label.tolist()\n",
        "            predicted_label_list = plabel.tolist()\n",
        "\n",
        "            for i in range(len(label_list)):\n",
        "                if label_list[i] == 1:\n",
        "                    if predicted_label_list[i] == 1:\n",
        "                        TP += 1\n",
        "                    else:\n",
        "                        FN += 1\n",
        "                else:\n",
        "                    if predicted_label_list[i] == 0:\n",
        "                        TN += 1\n",
        "                    else:\n",
        "                        FP += 1\n",
        "            # print(label_list,'-->', predicted_label_list)\n",
        "            # loss = criterion(predicted_label.argmax(1), label)\n",
        "            total_acc += (predicted_label.argmax(1) == label).sum().item()\n",
        "            total_count += label.size(0)\n",
        "    print('TP:', TP)\n",
        "    print('FN:', FN)\n",
        "    print('FP:', FP)\n",
        "    print('TN:', TN)\n",
        "    precision = TP / (TP + FP)\n",
        "    recall = TP / (TP + FN)\n",
        "    F1 = 2 * precision * recall / (precision + recall)\n",
        "    accuracy = total_acc / total_count\n",
        "    print('accuracy:', accuracy)\n",
        "    print('precision:', precision)\n",
        "    print('recall:', recall)\n",
        "    print('F1:', F1)\n",
        "    print('{:10.4f},{:10.4f},{:10.4f},{:10.4f}'.format(accuracy, precision, recall, F1))\n",
        "    return total_acc / total_count"
      ]
    },
    {
      "cell_type": "code",
      "execution_count": 127,
      "metadata": {},
      "outputs": [
        {
          "name": "stdout",
          "output_type": "stream",
          "text": [
            "Checking the results on SUBJ test dataset.\n",
            "TP: 468\n",
            "FN: 32\n",
            "FP: 42\n",
            "TN: 458\n",
            "accuracy: 0.926\n",
            "precision: 0.9176470588235294\n",
            "recall: 0.936\n",
            "F1: 0.9267326732673268\n",
            "    0.9260,    0.9176,    0.9360,    0.9267\n"
          ]
        },
        {
          "data": {
            "text/plain": [
              "0.926"
            ]
          },
          "execution_count": 127,
          "metadata": {},
          "output_type": "execute_result"
        }
      ],
      "source": [
        "print(\"Checking the results on SUBJ test dataset.\")\n",
        "evaluateF1(test_dataloader)"
      ]
    },
    {
      "cell_type": "markdown",
      "metadata": {},
      "source": [
        "**Evaluate on tasksource**"
      ]
    },
    {
      "cell_type": "code",
      "execution_count": 128,
      "metadata": {},
      "outputs": [
        {
          "data": {
            "text/html": [
              "<div>\n",
              "<style scoped>\n",
              "    .dataframe tbody tr th:only-of-type {\n",
              "        vertical-align: middle;\n",
              "    }\n",
              "\n",
              "    .dataframe tbody tr th {\n",
              "        vertical-align: top;\n",
              "    }\n",
              "\n",
              "    .dataframe thead th {\n",
              "        text-align: right;\n",
              "    }\n",
              "</style>\n",
              "<table border=\"1\" class=\"dataframe\">\n",
              "  <thead>\n",
              "    <tr style=\"text-align: right;\">\n",
              "      <th></th>\n",
              "      <th>Sentence</th>\n",
              "      <th>Label</th>\n",
              "      <th>Solved conflict</th>\n",
              "    </tr>\n",
              "  </thead>\n",
              "  <tbody>\n",
              "    <tr>\n",
              "      <th>0</th>\n",
              "      <td>The fourth focused on Republican criticism of ...</td>\n",
              "      <td>OBJ</td>\n",
              "      <td>False</td>\n",
              "    </tr>\n",
              "    <tr>\n",
              "      <th>1</th>\n",
              "      <td>At least a dozen GOP-controlled state legislat...</td>\n",
              "      <td>OBJ</td>\n",
              "      <td>False</td>\n",
              "    </tr>\n",
              "    <tr>\n",
              "      <th>2</th>\n",
              "      <td>It must explicitly act for the benefit of whit...</td>\n",
              "      <td>SUBJ</td>\n",
              "      <td>False</td>\n",
              "    </tr>\n",
              "    <tr>\n",
              "      <th>3</th>\n",
              "      <td>But the MSM does have a point about GOP rhetor...</td>\n",
              "      <td>OBJ</td>\n",
              "      <td>False</td>\n",
              "    </tr>\n",
              "    <tr>\n",
              "      <th>4</th>\n",
              "      <td>These issues include punishing Sanctuary Citie...</td>\n",
              "      <td>OBJ</td>\n",
              "      <td>False</td>\n",
              "    </tr>\n",
              "  </tbody>\n",
              "</table>\n",
              "</div>"
            ],
            "text/plain": [
              "                                            Sentence Label  Solved conflict\n",
              "0  The fourth focused on Republican criticism of ...   OBJ            False\n",
              "1  At least a dozen GOP-controlled state legislat...   OBJ            False\n",
              "2  It must explicitly act for the benefit of whit...  SUBJ            False\n",
              "3  But the MSM does have a point about GOP rhetor...   OBJ            False\n",
              "4  These issues include punishing Sanctuary Citie...   OBJ            False"
            ]
          },
          "execution_count": 128,
          "metadata": {},
          "output_type": "execute_result"
        }
      ],
      "source": [
        "df = pd.read_csv('data/tasksource/test.csv')\n",
        "df.head()"
      ]
    },
    {
      "cell_type": "code",
      "execution_count": 129,
      "metadata": {},
      "outputs": [
        {
          "data": {
            "text/html": [
              "<div>\n",
              "<style scoped>\n",
              "    .dataframe tbody tr th:only-of-type {\n",
              "        vertical-align: middle;\n",
              "    }\n",
              "\n",
              "    .dataframe tbody tr th {\n",
              "        vertical-align: top;\n",
              "    }\n",
              "\n",
              "    .dataframe thead th {\n",
              "        text-align: right;\n",
              "    }\n",
              "</style>\n",
              "<table border=\"1\" class=\"dataframe\">\n",
              "  <thead>\n",
              "    <tr style=\"text-align: right;\">\n",
              "      <th></th>\n",
              "      <th>text</th>\n",
              "      <th>label</th>\n",
              "    </tr>\n",
              "  </thead>\n",
              "  <tbody>\n",
              "    <tr>\n",
              "      <th>0</th>\n",
              "      <td>The fourth focused on Republican criticism of ...</td>\n",
              "      <td>0</td>\n",
              "    </tr>\n",
              "    <tr>\n",
              "      <th>1</th>\n",
              "      <td>At least a dozen GOP-controlled state legislat...</td>\n",
              "      <td>0</td>\n",
              "    </tr>\n",
              "    <tr>\n",
              "      <th>2</th>\n",
              "      <td>It must explicitly act for the benefit of whit...</td>\n",
              "      <td>1</td>\n",
              "    </tr>\n",
              "    <tr>\n",
              "      <th>3</th>\n",
              "      <td>But the MSM does have a point about GOP rhetor...</td>\n",
              "      <td>0</td>\n",
              "    </tr>\n",
              "    <tr>\n",
              "      <th>4</th>\n",
              "      <td>These issues include punishing Sanctuary Citie...</td>\n",
              "      <td>0</td>\n",
              "    </tr>\n",
              "  </tbody>\n",
              "</table>\n",
              "</div>"
            ],
            "text/plain": [
              "                                                text  label\n",
              "0  The fourth focused on Republican criticism of ...      0\n",
              "1  At least a dozen GOP-controlled state legislat...      0\n",
              "2  It must explicitly act for the benefit of whit...      1\n",
              "3  But the MSM does have a point about GOP rhetor...      0\n",
              "4  These issues include punishing Sanctuary Citie...      0"
            ]
          },
          "execution_count": 129,
          "metadata": {},
          "output_type": "execute_result"
        }
      ],
      "source": [
        "label2id = {\"SUBJ\": 1, \"OBJ\": 0}\n",
        "\n",
        "# tasksource\n",
        "# remove the last column from a dataframe\n",
        "df = df.iloc[:, :-1]\n",
        "# rename the first column of the dataframe\n",
        "df = df.rename(columns={\"Sentence\": \"text\", \"Label\": \"label\"})\n",
        "\n",
        "df['label'] = df['label'].apply(lambda x: label2id[x])\n",
        "df.head()"
      ]
    },
    {
      "cell_type": "code",
      "execution_count": 130,
      "metadata": {},
      "outputs": [
        {
          "name": "stdout",
          "output_type": "stream",
          "text": [
            "Checking the results on TASKSOURCE test dataset.\n",
            "TP: 65\n",
            "FN: 48\n",
            "FP: 48\n",
            "TN: 58\n",
            "accuracy: 0.5616438356164384\n",
            "precision: 0.5752212389380531\n",
            "recall: 0.5752212389380531\n",
            "F1: 0.5752212389380531\n",
            "    0.5616,    0.5752,    0.5752,    0.5752\n"
          ]
        },
        {
          "data": {
            "text/plain": [
              "0.5616438356164384"
            ]
          },
          "execution_count": 130,
          "metadata": {},
          "output_type": "execute_result"
        }
      ],
      "source": [
        "labels = df['label'].to_list()\n",
        "texts = df['text'].to_list()\n",
        "dataset = TextClassificationDataset(texts, labels)\n",
        "test_dataloader = DataLoader(\n",
        "    dataset, batch_size=BATCH_SIZE, shuffle=False, collate_fn=collate_batch\n",
        ")\n",
        "print(\"Checking the results on TASKSOURCE test dataset.\")\n",
        "evaluateF1(test_dataloader)"
      ]
    },
    {
      "cell_type": "markdown",
      "metadata": {},
      "source": [
        "**Evaluate on bard dataset**"
      ]
    },
    {
      "cell_type": "code",
      "execution_count": 131,
      "metadata": {},
      "outputs": [
        {
          "data": {
            "text/plain": [
              "(100, 2)"
            ]
          },
          "execution_count": 131,
          "metadata": {},
          "output_type": "execute_result"
        }
      ],
      "source": [
        "# Load the dataset\n",
        "\n",
        "df = pd.read_csv('data/bard.csv')\n",
        "df.shape\n",
        "# df.head()"
      ]
    },
    {
      "cell_type": "code",
      "execution_count": 132,
      "metadata": {},
      "outputs": [
        {
          "name": "stdout",
          "output_type": "stream",
          "text": [
            "Checking the results on BARD test dataset.\n",
            "TP: 41\n",
            "FN: 9\n",
            "FP: 24\n",
            "TN: 26\n",
            "accuracy: 0.67\n",
            "precision: 0.6307692307692307\n",
            "recall: 0.82\n",
            "F1: 0.7130434782608696\n",
            "    0.6700,    0.6308,    0.8200,    0.7130\n"
          ]
        },
        {
          "data": {
            "text/plain": [
              "0.67"
            ]
          },
          "execution_count": 132,
          "metadata": {},
          "output_type": "execute_result"
        }
      ],
      "source": [
        "# Evaluate the model on the dataset\n",
        "\n",
        "labels = df['label'].to_list()\n",
        "texts = df['text'].to_list()\n",
        "\n",
        "dataset = TextClassificationDataset(texts, labels)\n",
        "test_dataloader = DataLoader(\n",
        "    dataset, batch_size=BATCH_SIZE, shuffle=False, collate_fn=collate_batch\n",
        ")\n",
        "\n",
        "\n",
        "print(\"Checking the results on BARD test dataset.\")\n",
        "evaluateF1(test_dataloader)"
      ]
    },
    {
      "cell_type": "markdown",
      "metadata": {},
      "source": [
        "**Evaluate on AI21 dataset**"
      ]
    },
    {
      "cell_type": "code",
      "execution_count": 133,
      "metadata": {},
      "outputs": [
        {
          "data": {
            "text/plain": [
              "(100, 2)"
            ]
          },
          "execution_count": 133,
          "metadata": {},
          "output_type": "execute_result"
        }
      ],
      "source": [
        "# Load the dataset\n",
        "\n",
        "df = pd.read_csv('data/ai21.csv')\n",
        "df.shape\n",
        "# df.head()"
      ]
    },
    {
      "cell_type": "code",
      "execution_count": 134,
      "metadata": {},
      "outputs": [
        {
          "name": "stdout",
          "output_type": "stream",
          "text": [
            "Checking the results on AI21 test dataset.\n",
            "TP: 25\n",
            "FN: 25\n",
            "FP: 14\n",
            "TN: 36\n",
            "accuracy: 0.61\n",
            "precision: 0.6410256410256411\n",
            "recall: 0.5\n",
            "F1: 0.5617977528089888\n",
            "    0.6100,    0.6410,    0.5000,    0.5618\n"
          ]
        },
        {
          "data": {
            "text/plain": [
              "0.61"
            ]
          },
          "execution_count": 134,
          "metadata": {},
          "output_type": "execute_result"
        }
      ],
      "source": [
        "# Evaluate the model on the dataset\n",
        "\n",
        "labels = df['label'].to_list()\n",
        "texts = df['text'].to_list()\n",
        "\n",
        "dataset = TextClassificationDataset(texts, labels)\n",
        "test_dataloader = DataLoader(\n",
        "    dataset, batch_size=BATCH_SIZE, shuffle=False, collate_fn=collate_batch\n",
        ")\n",
        "\n",
        "\n",
        "print(\"Checking the results on AI21 test dataset.\")\n",
        "evaluateF1(test_dataloader)"
      ]
    }
  ],
  "metadata": {
    "colab": {
      "provenance": []
    },
    "kernelspec": {
      "display_name": "Python 3",
      "name": "python3"
    },
    "language_info": {
      "codemirror_mode": {
        "name": "ipython",
        "version": 3
      },
      "file_extension": ".py",
      "mimetype": "text/x-python",
      "name": "python",
      "nbconvert_exporter": "python",
      "pygments_lexer": "ipython3",
      "version": "3.10.12"
    }
  },
  "nbformat": 4,
  "nbformat_minor": 0
}
